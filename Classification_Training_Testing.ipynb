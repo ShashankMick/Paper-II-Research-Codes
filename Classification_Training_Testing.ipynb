{
 "cells": [
  {
   "cell_type": "code",
   "execution_count": 2,
   "metadata": {
    "collapsed": false
   },
   "outputs": [],
   "source": [
    "import pandas as pd\n",
    "import nltk\n",
    "import sklearn as sk\n",
    "import numpy as np\n",
    "from sklearn.model_selection import train_test_split"
   ]
  },
  {
   "cell_type": "code",
   "execution_count": 3,
   "metadata": {
    "collapsed": false
   },
   "outputs": [],
   "source": [
    "data=pd.read_excel('C:\\\\Users\\\\Ammick\\\\Google Drive\\\\PHD\\\\Research Paper\\\\PYTHON\\\\2016 Movies Reviews\\\\All Data + Extraction Code\\\\Paper II Working\\\\Feature_Normalize_Token_Stop_Stem_Lemma_POS.xlsx')"
   ]
  },
  {
   "cell_type": "markdown",
   "metadata": {},
   "source": [
    "#### TRAIN TEST SPLIT"
   ]
  },
  {
   "cell_type": "code",
   "execution_count": null,
   "metadata": {
    "collapsed": true
   },
   "outputs": [],
   "source": [
    "df=data.copy()\n",
    "train, test=train_test_split(df,test_size=0.20)"
   ]
  },
  {
   "cell_type": "code",
   "execution_count": 50,
   "metadata": {
    "collapsed": false
   },
   "outputs": [
    {
     "data": {
      "text/plain": [
       "3    ['Aamir', 'Khan', 'shines', 'in', 'the', 'role...\n",
       "4    [\"''\", 'Direction', 'was', 'superb', 'and', 'A...\n",
       "1    ['I', 'saw', 'this', 'with', 'my', 'family', '...\n",
       "2    ['Director', 'Mr.', 'Nitesh', 'Tiwari', 'work'...\n",
       "Name: Tokens, dtype: object"
      ]
     },
     "execution_count": 50,
     "metadata": {},
     "output_type": "execute_result"
    }
   ],
   "source": [
    "df=data.copy()\n",
    "train, test=train_test_split(df,test_size=0.20)"
   ]
  },
  {
   "cell_type": "code",
   "execution_count": 39,
   "metadata": {
    "collapsed": false
   },
   "outputs": [
    {
     "data": {
      "text/plain": [
       "array([ '[\\'Aamir\\', \\'Khan\\', \\'shines\\', \\'in\\', \\'the\\', \\'role\\', \\'of\\', \\'Mahavir\\', \\'Singh\\', \\'Phogat\\', \\'.\\', \\'He\\', \\'is\\', \\'so\\', \\'outstanding\\', \\'in\\', \\'his\\', \\'performance\\', \\'that\\', \\'this\\', \\'could\\', \\'be\\', \\'considered\\', \\'as\\', \\'one\\', \\'of\\', \\'his\\', \\'best\\', \\'works\\', \\'ever\\', \\'.\\', \\'The\\', \\'opening\\', \\'scene\\', \\'of\\', \\'the\\', \\'film\\', \\'is\\', \\'just\\', \\'a\\', \\'glimpse\\', \\'of\\', \\'Phogat\\', \"\\'s\", \\'passion\\', \\'for\\', \\'the\\', \\'sport\\', \\'\\\\x96\\', \\'wrestling\\', \\'.\\', \\'The\\', \\'first\\', \\'half\\', \\'of\\', \\'Dangal\\', \\'works\\', \\'exactly\\', \\'like\\', \\'a\\', \\'skilled\\', \\'wrestler\\', \\'\\\\x96\\', \\'invariably\\', \\'sure\\', \\'of\\', \\'its\\', \\'moves\\', \\'.\\', \\'The\\', \\'film\\', \"\\'s\", \\'second\\', \\'half\\', \\'is\\', \\'all\\', \\'about\\', \\'victory\\', \\'.\\', \\'Mahavir\\', \"\\'s\", \\'transformation\\', \\'from\\', \\'the\\', \\'once\\', \\'upset\\', \\'father\\', \\'of\\', \\'a\\', \\'baby\\', \\'girl\\', \\'to\\', \\'the\\', \\'most\\', \\'triumphant\\', \\'one\\', \\'to\\', \\'Geeta\\', \"\\'s\", \\'string\\', \\'of\\', \\'losses\\', \\'before\\', \\'she\\', \\'finally\\', \\'wins\\', \\'a\\', \\'gold\\', \\'during\\', \\'Common\\', \\'Wealth\\', \\'Games\\', \\'to\\', \\'desi\\', \\'akhara\\', \\'being\\', \\'replaced\\', \\'by\\', \\'wrestling\\', \\'mat\\', \\'\\\\x96\\', \\'every\\', \\'moment\\', \\'works\\', \\'in\\', \\'contrast\\', \\'to\\', \\'what\\', \\'you\\', \\'had\\', \\'watched\\', \\'earlier\\', \\'.\\', \\'But\\', \\'not\\', \\'even\\', \\'once\\', \\'does\\', \\'the\\', \\'film\\', \\'loses\\', \\'its\\', \\'focus.A\\', \\'word\\', \\'here\\', \\'about\\', \\'Mukesh\\', \\'Chhabra\\', \"\\'s\", \\'casting\\', \\':\\', \\'he\\', \\'has\\', \\'done\\', \\'a\\', \\'tremendous\\', \\'job\\', \\'of\\', \\'the\\', \\'casting\\', \\'.\\', \\'Nitesh\\', \\'Tiwari\\', \"\\'s\", \\'direction\\', \\'is\\', \\'amazingly\\', \\'terrific\\', \\'.\\', \\'AmitabhBhattacharya\\', \"\\'s\", \\'lyrics\\', \\'are\\', \\'great\\', \\'.\\', \\'Pritam\\', \"\\'s\", \\'music\\', \\'is\\', \\'in\\', \\'terrific\\', \\'sync\\', \\'with\\', \\'the\\', \\'mood\\', \\'of\\', \\'the\\', \\'drama\\', \\'.\\', \"\\'Dangal\", \\'dangal\\', \"\\'\", \\'is\\', \\'a\\', \\'very\\', \\'inspiring\\', \\'song\\', \\'and\\', \\'will\\', \\'soon\\', \\'become\\', \\'a\\', \\'rage\\', \\'.\\', \"\\'Dhaakad\", \"\\'\", \\'and\\', \"\\'Haanikarak\", \"\\'\", \\'are\\', \\'also\\', \\'very\\', \\'well-tuned\\', \\'.\\', \\'The\\', \"\\'Gilehariyaan\", \"\\'\", \\'song\\', \\'has\\', \\'terrific\\', \\'charm\\', \\'of\\', \\'a\\', \\'different\\', \\'kind\\', \\'.\\', \\'Amitabh\\', \\'Bhattacharya\\', \"\\'s\", \\'lyrics\\', \\'are\\', \\'great\\', \\'.\\', \\'The\\', \\'song\\', \\'writer\\', \\'may\\', \\'pick\\', \\'up\\', \\'some\\', \\'awards\\', \\'for\\', \\'his\\', \\'lyrics\\', \\'.\\', \\'Bosco-\\', \"Caesar\\'s\", \\'choreography\\', \\'is\\', \\'very\\', \\'real\\', \\'.\\', \\'Pritam\\', \"\\'s\", \\'background\\', \\'music\\', \\'deserves\\', \\'distinction\\', \\'marks\\', \\'.\\', \\'The\\', \\'actors\\', \\'who\\', \\'play\\', \\'the\\', \\'young\\', \\'Geeta\\', \\'and\\', \\'Babita\\', \\'(\\', \\'Zaira\\', \\'Wasim\\', \\',\\', \\'Suhani\\', \\'Bhatnagar\\', \\')\\', \\'do\\', \\'a\\', \\'competent\\', \\'job\\', \\'of\\', \\'maintaining\\', \\'the\\', \\'audiences\\', \\'attention\\', \\'.\\', \\'And\\', \\'both\\', \\'Shaikh\\', \\'and\\', \\'Malhotra\\', \\'carry\\', \\'it\\', \\'forward\\', \\',\\', \\'especially\\', \\'when\\', \\'they\\', \\'spend\\', \\'a\\', \\'lot\\', \\'of\\', \\'the\\', \\'second\\', \\'half\\', \\'on\\', \\'the\\', \\'mat\\', \\',\\', \\'learning\\', \\'how\\', \\'to\\', \\'lose\\', \\',\\', \\'and\\', \\',\\', \\'above\\', \\'all\\', \\',\\', \\'to\\', \\'win\\', \\'.\\', \\'Since\\', \\'it\\', \\'encapsulates\\', \\'the\\', \\'historic\\', \\'win\\', \\'of\\', \\'the\\', \\'phogats\\', \\'who\\', \\'bought\\', \\'India\\', \\'glory\\', \\'so\\', \\'it\\', \\'is\\', \\'bound\\', \\'to\\', \\'inspire\\', \\'women\\', \\'.\\', \\'Dialogues\\', \\'are\\', \\'absolute\\', \\'gems\\', \\'.\\', \\'Without\\', \\'being\\', \\'overtly\\', \\'long\\', \\',\\', \\'they\\', \\'are\\', \\'so\\', \\'effective\\', \\'that\\', \\'they\\', \\'invariably\\', \\'touch\\', \\'the\\', \\'heart\\', \\'before\\', \\'reaching\\', \\'the\\', \\'ears\\', \\'.\\', \\'On\\', \\'the\\', \\'whole\\', \\',\\', \\'Dangal\\', \\'is\\', \\'not\\', \\'just\\', \\'a\\', \\'movie\\', \\';\\', \\'it\\', \\'is\\', \\'an\\', \\'experience\\', \\'to\\', \\'be\\', \\'cherished\\', \\'.\\', \\'The\\', \\'film\\', \\'is\\', \\'destined\\', \\'to\\', \\'be\\', \\'one\\', \\'of\\', \\'the\\', \\'biggest\\', \\'blockbusters\\', \\'of\\', \\'Indian\\', \\'cinema.As\\', \\'it\\', \\'content\\', \\'oriented\\', \\'so\\', \\'The\\', \\'movie\\', \\'is\\', \\'both\\', \\'for\\', \\'the\\', \\'single\\', \\'screens\\', \\'as\\', \\'well\\', \\'as\\', \\'for\\', \\'the\\', \\'multiplexes\\', \\'and\\', \\'people\\', \\'of\\', \\'all\\', \\'age\\', \\'can\\', \\'watch.so\\', \\'this\\', \\'movie\\', \\'is\\', \\'a\\', \\'must\\', \\'watch\\', \\'.\\', \\'So\\', \\'I\\', \\'Rate\\', \\'it\\', \\'10\\', \\'stars\\', \\'out\\', \\'of\\', \\'10\\', \\'because\\', \\'I\\', \\'was\\', \\'thinking\\', \\'movie\\', \\'deserves\\', \\'it.I\\', \\'usually\\', \\'do\\', \"n\\'t\", \\'rate\\', \\'any\\', \\'movie\\', \\'10\\', \\'but\\', \\'This\\', \\'movie\\', \\'``\\', \\'HatsOff\\', \"\\'\\'\", \\'.\\', \\'Do\\', \"n\\'t\", \\'Expect\\', \\'a\\', \\'better\\', \\'story\\', \\'than\\', \\'this.Finest\\', \\'piece.Dangal\\', \\'hai\\', \\'yeh\\', \\'.\\']',\n",
       "       '[\"\\'\\'\", \\'Direction\\', \\'was\\', \\'superb\\', \\'and\\', \\'Aamir\\', \"\\'s\", \\'performance\\', \\'was\\', \\'excellent\\', \\'.\\', \\'A\\', \\'compelling\\', \\'narrative\\', \\'based\\', \\'on\\', \\'true\\', \\'story\\', \\'with\\', \\'a\\', \\'powerful\\', \\'message\\', \\'for\\', \\'women\\', \"\\'\\'\", \\'My\\', \\'rating-\\', \\'4.5/5\\', \\'(\\', \\'Movie\\', \\'of\\', \\'the\\', \\'year\\', \\'and\\', \\'do\\', \"n\\'t\", \\'miss\\', \\'this\\', \\'flick\\', \\')\\', \\'Positives-\\', \\'1\\', \\'.\\', \\')\\', \\'Direction\\', \\'and\\', \\'screenplay-\\', \\'Direction\\', \\'and\\', \\'screenplay\\', \"didn\\'t\", \\'bore\\', \\'us\\', \\'and\\', \\'we\\', \\'were\\', \\'glued\\', \\'to\\', \\'the\\', \\'seats\\', \\'as\\', \\'it\\', \\'was\\', \\'so\\', \\'engaging\\', \\'and\\', \\'entertaining.2\\', \\'.\\', \\')\\', \\'Aamir\\', \\'khan\\', \\',\\', \\'Zaira\\', \\'(\\', \\'young\\', \\'Geeta\\', \\')\\', \\',\\', \\'Fathima\\', \\'(\\', \\'geeta\\', \\')\\', \\',\\', \\'suhani\\', \\'(\\', \\'young\\', \\'babitha\\', \\')\\', \\',\\', \\'sanya\\', \\'(\\', \\'babitha\\', \\')\\', \\'and\\', \\'fathima\\', \\'(\\', \\'mother\\', \\')\\', \\'-\\', \\'Everyone\\', \"\\'s\", \\'performance\\', \\'was\\', \\'excellent\\', \\'.\\', \\'Amir\\', \"\\'s\", \\'hardwork\\', \\'and\\', \\'dedication\\', \\'for\\', \\'this\\', \\'role\\', \\'can\\', \\'be\\', \\'seen\\', \\'through\\', \\'his\\', \\'performance\\', \\'.\\', \\'He\\', \\'once\\', \\'again\\', \\'proved\\', \\'to\\', \\'be\\', \\'Mr\\', \\'perfectionist\\', \\'.\\', \\'All\\', \\'girls\\', \\'who\\', \\'acted\\', \\'as\\', \\'daughters\\', \\'were\\', \\'very\\', \\'good\\', \\'and\\', \\'they\\', \\'portrayed\\', \\'their\\', \\'roles\\', \\'without\\', \\'any\\', \\'problems.3\\', \\'.\\', \\')\\', \\'Songs\\', \\'and\\', \\'bg\\', \\'score-\\', \\'Special\\', \\'mention\\', \\'for\\', \\'title\\', \\'song\\', \\'.\\', \\'Title\\', \\'song\\', \\'was\\', \\'great\\', \\'and\\', \\'suited\\', \\'the\\', \\'movie\\', \\'well\\', \\'.\\', \\'Hats\\', \\'off\\', \\'to\\', \\'Pritam\\', \\'and\\', \\'he\\', \\'once\\', \\'again\\', \\'proved\\', \\'that\\', \\'he\\', \\'is\\', \\'the\\', \\'best\\', \\'music\\', \\'director\\', \\'of\\', \\'bollywood.4\\', \\'.\\', \\')\\', \\'Cinematography\\', \\'and\\', \\'edits-\\', \\'Cinematographer\\', \\'captured\\', \\'wrestling\\', \\'scenes\\', \\'very\\', \\'well\\', \\'and\\', \\'edits\\', \\'of\\', \\'certain\\', \\'scenes\\', \\'were\\', \\'good.5\\', \\'.\\', \\')\\', \\'Strong\\', \\'message\\', \\'for\\', \\'women\\', \\'Negatives-\\', \\'(\\', \\'NO\\', \\'NEGATIVES\\', \\')\\', \\'Is\\', \\'it\\', \\'a\\', \\'must\\', \\'watch\\', \\'?\\', \\'Yes\\', \\'!\\', \\'!\\', \\'!\\', \\'and\\', \\'watch\\', \\'it\\', \\'in\\', \\'theaters\\', \\'to\\', \\'get\\', \\'the\\', \\'feel.Overall-\\', \\'This\\', \\'is\\', \\'the\\', \\'best\\', \\'Christmas\\', \\'treat\\', \\'for\\', \\'everyone\\', \\'from\\', \\'dangal\\', \\'team\\', \\'.\\', \\'This\\', \\'has\\', \\'Aamir\\', \\'Khan\\', \"\\'s\", \\'best\\', \\'performance\\', \\'till\\', \\'date\\', \\'.\\', \\'And\\', \\'the\\', \\'major\\', \\'one\\', \\'is\\', \\'that\\', \\'it\\', \\'has\\', \\'strong\\', \\'message\\', \\'for\\', \\'women\\', \\'.\\', \\'Yes\\', \\'its\\', \\'a\\', \\'must\\', \\'watch\\', \\'movie\\', \\'and\\', \\'do\\', \"n\\'t\", \\'miss\\', \\'this\\', \\'flick\\', \\'!\\', \\'!\\', \\'My\\', \\'rating-\\', \\'4.5/5\\', \\'(\\', \\'Movie\\', \\'of\\', \\'the\\', \\'year\\', \\'and\\', \\'do\\', \"n\\'t\", \\'miss\\', \\'this\\', \\'movie\\', \\')\\', \\'For\\', \\'more\\', \\'reviews\\', \\'go\\', \\'to-\\', \\'ridinbal\\', \\'movie\\', \\'reviews\\', \\'.\\', \\'Ridin\\', \\'bal\\', \\'movie\\', \\'reviews\\', \\'has\\', \\'all\\', \\'language\\', \\'movie\\', \\'reviews\\', \\'(\\', \\'Malayalam\\', \\',\\', \\'English\\', \\',\\', \\'Telugu\\', \\',\\', \\'Kannada\\', \\',\\', \\'Tamil\\', \\',\\', \\'Arabic\\', \\',\\', \\'Hindi\\', \\',\\', \\'Iranian\\', \\')\\']',\n",
       "       '[\\'I\\', \\'saw\\', \\'this\\', \\'with\\', \\'my\\', \\'family\\', \\'in\\', \\'a\\', \\'theatre\\', \\'.\\', \\'Awesome\\', \\'experience\\', \\'.\\', \\'This\\', \\'is\\', \\'why\\', \\'i\\', \\'love\\', \\'Aamir\\', \\'khan\\', \\'movies\\', \\'.\\', \\'Proud\\', \\'to\\', \\'be\\', \\'an\\', \\'Aamir\\', \\'khan\\', \\'fan\\', \\'.\\', \"Aamir\\'s\", \\'acting\\', \\',\\', \\'effort\\', \\'n\\', \\'most\\', \\'importantly\\', \\'his\\', \\'passion\\', \\'is\\', \\'what\\', \\'makes\\', \\'his\\', \\'cinema\\', \\'so\\', \\'damn\\', \\'unique\\', \\'.\\', \\'First\\', \\'thing\\', \\'Dangal\\', \\'has\\', \\'going\\', \\'for\\', \\'it\\', \\'is\\', \\'Aamir\\', \\'khan\\', \\'.\\', \\'First\\', \\'off\\', \\'the\\', \\'acting\\', \\'was\\', \\'amazing\\', \\'.\\', \\'Aamir\\', \\'khan\\', \\'gave\\', \\'arguably\\', \\'the\\', \\'best\\', \\'performance\\', \\'of\\', \\'his\\', \\'career\\', \\'playing\\', \\'Phogat\\', \\'.\\', \\'He\\', \\'is\\', \\'the\\', \\'best\\', \\'actor\\', \\'in\\', \\'bollywood\\', \\'.\\', \\'Period\\', \\'.\\', \\'He\\', \\'shocked\\', \\'me\\', \\'by\\', \\'his\\', \\'transformation\\', \\'.\\', \\'I\\', \\'myself\\', \\'being\\', \\'a\\', \\'gym\\', \\'trainer\\', \\'knows\\', \\'the\\', \\'effort\\', \\'which\\', \\'goes\\', \\'in\\', \\'such\\', \\'kinda\\', \\'transformation\\', \\'.\\', \\'Without\\', \\'Aamir\\', \\'I\\', \\'do\\', \"n\\'t\", \\'think\\', \\'this\\', \\'movie\\', \\'could\\', \\'have\\', \\'achieved\\', \\'what\\', \\'it\\', \\'has\\', \\'.\\', \\'Sakshi\\', \\'Tanwar\\', \\'gave\\', \\'a\\', \\'great\\', \\'performance\\', \\'as\\', \\'his\\', \\'wife\\', \\'.\\', \\'The\\', \\'daughters\\', \\'Fatima\\', \\'n\\', \\'Sanya\\', \\'gave\\', \\'lovely\\', \\'performances\\', \\'.\\', \\'The\\', \\'child\\', \\'actors\\', \\'were\\', \\'good\\', \\'too\\', \\'.\\', \\'The\\', \\'music\\', \\'was\\', \\'good\\', \\'.\\', \\'The\\', \\'direction\\', \\'by\\', \\'Tiwari\\', \\'was\\', \\'the\\', \\'best\\', \\'of\\', \\'2016\\', \\'.\\', \\'This\\', \\'movie\\', \\'was\\', \\'never\\', \\'boring\\', \\'and\\', \\'full\\', \\'credit\\', \\'shud\\', \\'go\\', \\'to\\', \\'the\\', \\'director\\', \\'.\\', \\'The\\', \\'cinematography\\', \\'gave\\', \\'you\\', \\'a\\', \\'feeling\\', \\'as\\', \\'if\\', \\'what\\', \\'you\\', \\'are\\', \\'watching\\', \\'is\\', \\'real\\', \\'.\\', \\'The\\', \\'village\\', \\'was\\', \\'captured\\', \\'well\\', \\'.\\', \\'Overall\\', \\'you\\', \\'do\\', \"n\\'t\", \\'have\\', \\'to\\', \\'like\\', \\'wrestling\\', \\'or\\', \\'know\\', \\'wrestling\\', \\'to\\', \\'appreciate\\', \\'this\\', \\'movie\\', \\'.\\', \\'Its\\', \\'a\\', \\'wonderful\\', \\'movie\\', \\'.\\', \\'The\\', \\'movie\\', \\'is\\', \\'written\\', \\'very\\', \\'well\\', \\'.\\', \\'Superb\\', \\'screenplay\\', \\'n\\', \\'crispy\\', \\'editing\\', \\'.\\']',\n",
       "       '[\\'Director\\', \\'Mr.\\', \\'Nitesh\\', \\'Tiwari\\', \\'work\\', \\'is\\', \\'so\\', \\'brilliant\\', \\'that\\', \\'after\\', \\'few\\', \\'minutes\\', \\',\\', \\'you\\', \\'just\\', \\'forget\\', \\'that\\', \\'you\\', \\'are\\', \\'watching\\', \\'film\\', \\'.\\', \\'You\\', \\'simply\\', \\'start\\', \\'witnessing\\', \\'the\\', \\'journey\\', \\'of\\', \\'Phogat\\', \"\\'s\", \\'family\\', \\'.\\', \\'Makers\\', \\'are\\', \\'so\\', \\'confident\\', \\'that\\', \\'they\\', \\'have\\', \\'even\\', \\'given\\', \\'credit\\', \\'for\\', \\'story\\', \\'idea\\', \\'to\\', \\'Divya\\', \\'Rao\\', \\',\\', \\'which\\', \\'reflects\\', \\'their\\', \\'honesty\\', \\'.\\', \\'She\\', \\'is\\', \\'not\\', \\'in\\', \\'writing\\', \\'team\\', \\'but\\', \\'gets\\', \\'her\\', \\'due\\', \\'credit\\', \\'.\\', \\'There\\', \\'are\\', \\'four\\', \\'writers\\', \\',\\', \\'Director\\', \\'himself\\', \\',\\', \\'Piyush\\', \\'Gupta\\', \\',\\', \\'Shreyas\\', \\'Jain\\', \\'and\\', \\'Nikhil\\', \\'Mehrotra\\', \\'and\\', \\'their\\', \\'work\\', \\'is\\', \\'fantastic\\', \\'.\\', \\'Screenplay\\', \\'is\\', \\'seamless\\', \\'and\\', \\'very\\', \\'balanced\\', \\'with\\', \\'much\\', \\'needed\\', \\'freshness\\', \\'.\\', \\'Film\\', \\'starts\\', \\'with\\', \\'glimpse\\', \\'of\\', \\'Mahavir\\', \\'Singh\\', \\'Phogat\\', \"\\'s\", \\'passion\\', \\'for\\', \\'wrestling\\', \\',\\', \\'while\\', \\'watching\\', \\'and\\', \\'challenging\\', \\'another\\', \\'district\\', \\'level\\', \\'arrogant\\', \\'winner\\', \\',\\', \\'while\\', \\'commentary\\', \\'comes\\', \\'over\\', \\'on\\', \\'them\\', \\'which\\', \\'is\\', \\'fresh\\', \\'.\\', \\'When\\', \\'that\\', \\'person\\', \\'gets\\', \\'defeated\\', \\'he\\', \\'says\\', \"\\'Tumne\", \\'district\\', \\'level\\', \\'pehlawan\\', \\'ko\\', \\'haraya\\', \\'hai\\', \"\\'\", \\'Then\\', \\'Mahavir\\', \\'Singh\\', \\'replies\\', \"\\'\", \\'Tension\\', \\'mat\\', \\'le\\', \\',\\', \\'tum\\', \\'national\\', \\'level\\', \\'champion\\', \\'se\\', \\'hare\\', \\'ho\\', \"\\'\", \\'.\\', \\'Words\\', \\'may\\', \\'be\\', \\'a\\', \\'bit\\', \\'different\\', \\'but\\', \\'meaning\\', \\'was\\', \\'same\\', \\'.\\', \\'Which\\', \\'gives\\', \\'strong\\', \\'idea\\', \\'that\\', \\'what\\', \\'level\\', \\'of\\', \\'dialogues\\', \\'you\\', \\'are\\', \\'going\\', \\'to\\', \\'listen\\', \\'and\\', \\'they\\', \\'have\\', \\'maintained\\', \\'the\\', \\'graph\\', \\'.\\', \\'Dialogues\\', \\'just\\', \\'nourish\\', \\'your\\', \\'senses\\', \\',\\', \\'inducing\\', \\'correct\\', \\'emotions\\', \\'.\\', \\'A\\', \\'simple\\', \\'scene\\', \\'where\\', \\'protagonist\\', \\'massages\\', \\'feet\\', \\'of\\', \\'his\\', \\'sleeping\\', \\'daughter\\', \\',\\', \\'clearly\\', \\'reflects\\', \\'that\\', \\'he\\', \\'is\\', \\'just\\', \\'not\\', \\'a\\', \\'ruthless\\', \\'coach\\', \\'but\\', \\'a\\', \\'caring\\', \\'father\\', \\'too\\', \\'.\\', \\'Girls\\', \\'curse\\', \\'their\\', \\'father\\', \\'in\\', \\'front\\', \\'of\\', \\'their\\', \\'friend\\', \\'who\\', \\'is\\', \\'getting\\', \\'married\\', \\',\\', \\'then\\', \\'that\\', \\'girl\\', \\'emotional\\', \\'words\\', \\'about\\', \\'her\\', \\'feeling\\', \\'towards\\', \\'their\\', \\'caring\\', \\'father\\', \\'is\\', \\'very\\', \\'cute\\', \\',\\', \\'emotional\\', \\'and\\', \\'enough\\', \\'to\\', \\'make\\', \\'girls\\', \\'realize\\', \\'that\\', \\'what\\', \\'they\\', \\'are\\', \\'taking\\', \\'for\\', \\'granted\\', \\'.\\', \\'Best\\', \\'part\\', \\'of\\', \\'this\\', \\'film\\', \\'is\\', \\'it\\', \"\\'s\", \\'continues\\', \\'ascending\\', \\'graph\\', \\'in\\', \\'every\\', \\'aspect\\', \\'.\\', \\'First\\', \\'half\\', \\'is\\', \\'cute\\', \\',\\', \\'funny\\', \\'with\\', \\'subtle\\', \\'dose\\', \\'of\\', \\'emotions\\', \\'.\\', \\'Second\\', \\'half\\', \\'takes\\', \\'this\\', \\'graph\\', \\'to\\', \\'the\\', \\'horizon\\', \\'.\\', \\'Full\\', \\'of\\', \\'emotions\\', \\',\\', \\'either\\', \\'it\\', \\'is\\', \\'of\\', \\'defeat\\', \\',\\', \\'victory\\', \\'or\\', \\'relations\\', \\'.\\', \\'Another\\', \\'major\\', \\'plus\\', \\'point\\', \\'is\\', \\'the\\', \\'way\\', \\'they\\', \\'have\\', \\'shown\\', \\'wrestling\\', \\'.\\', \\'I\\', \\'dint\\', \\'know\\', \\'a\\', \\'bit\\', \\'of\\', \\'it\\', \\'but\\', \\'I\\', \\'enjoyed\\', \\'all\\', \\'wrestling\\', \\'matches\\', \\'like\\', \\'it\\', \\'was\\', \\'my\\', \\'favorite\\', \\'game\\', \\'and\\', \\'that\\', \\'is\\', \\'major\\', \\'chunk\\', \\'of\\', \\'film\\', \\'.\\', \\'Hats\\', \\'off\\', \\'to\\', \\'the\\', \\'team\\', \\'behind\\', \\'wresting\\', \\'choreography\\', \\'.Though\\', \\'you\\', \\'have\\', \\'basic\\', \\'idea\\', \\'of\\', \\'film\\', \\'happenings\\', \\'but\\', \\'still\\', \\'they\\', \\'kept\\', \\'you\\', \\'engrossed\\', \\'by\\', \\'presentation\\', \\'.\\', \\'Climax\\', \\'comes\\', \\'with\\', \\'a\\', \\'very\\', \\'strong\\', \\'message\\', \\'that\\', \\'one\\', \\'can\\', \\'train\\', \\'you\\', \\'but\\', \\'only\\', \\'you\\', \\'have\\', \\'to\\', \\'implement\\', \\'the\\', \\'techniques\\', \\',\\', \\'which\\', \\'makes\\', \\'you\\', \\'true\\', \\'winner\\', \\'and\\', \\'enriches\\', \\'self\\', \\'confident\\', \\'.\\', \\'Performance\\', \\'makes\\', \\'you\\', \\'thunderstruck\\', \\'.\\', \\'Words\\', \\'can\\', \\'not\\', \\'justify\\', \\'or\\', \\'compliment\\', \\',\\', \\'Amir\\', \"Khan\\'s\", \\'performance\\', \\'as\\', \\'Mahavir\\', \\'Singh\\', \\'Phogat\\', \\'.\\', \\'Zaira\\', \\'Waseem\\', \\'as\\', \\'younger\\', \\'Geeta\\', \\'is\\', \\'brilliant\\', \\'.\\', \\'She\\', \\'is\\', \\'so\\', \\'good\\', \\'that\\', \\'when\\', \\'Fatima\\', \\'Sana\\', \\'Sheikh\\', \\'takes\\', \\'over\\', \\'as\\', \\'grown\\', \\'up\\', \\'Geeta\\', \\',\\', \\'you\\', \\'miss\\', \\'younger\\', \\'one\\', \\'but\\', \\'soon\\', \\'Fatima\\', \\'proves\\', \\'that\\', \\'she\\', \\'has\\', \\'taken\\', \\'the\\', \\'graph\\', \\'far\\', \\'ahead\\', \\'.\\', \\'Same\\', \\'happens\\', \\'with\\', \\'younger\\', \\'Babita\\', \\'played\\', \\'by\\', \\'Suhani\\', \\'Bhatnagar\\', \\'and\\', \\'grown\\', \\'up\\', \\'by\\', \\'Sanya\\', \\'Malhotra\\', \\'.\\', \\'Skashi\\', \\'Tanwar\\', \\'as\\', \\'wife\\', \\'of\\', \\'Mahavir\\', \\'Singh\\', \\'is\\', \\'very\\', \\'good\\', \\'.\\', \\'Girish\\', \\'Kulkarni\\', \\',\\', \\'who\\', \\'had\\', \\'played\\', \\'coach\\', \\'is\\', \\'superb\\', \\',\\', \\'you\\', \\'do\\', \\'hate\\', \\'his\\', \\'character\\', \\'but\\', \\'love\\', \\'his\\', \\'performance\\', \\'.\\', \\'Actor\\', \\',\\', \\'who\\', \\'played\\', \\'younger\\', \\'cousin\\', \\'of\\', \\'Geeta\\', \\'and\\', \\'even\\', \\'grown\\', \\'up\\', \\'one\\', \\',\\', \\'both\\', \\'actors\\', \\'are\\', \\'cute\\', \\'and\\', \\'endearing\\', \\'.\\', \\'Kudos\\', \\'to\\', \\'casting\\', \\'director\\', \\'Mukesh\\', \\'Chhabra\\', \\'and\\', \\'team\\', \\'.\\', \\'Music\\', \\'by\\', \\'Pritam\\', \\'and\\', \\'lyrics\\', \\'by\\', \\'Amitabh\\', \\'Bhattacharya\\', \\',\\', \\'are\\', \\'integral\\', \\'part\\', \\'of\\', \\'this\\', \\'film\\', \\'.\\', \\'Without\\', \\'any\\', \\'formulated\\', \\'track\\', \\'you\\', \\'just\\', \\'enjoy\\', \\'every\\', \\'song\\', \\'and\\', \\'your\\', \\'eyes\\', \\'get\\', \\'mois\\', \\'in\\', \\'one\\', \\'too\\', \\'.\\']'], dtype=object)"
      ]
     },
     "execution_count": 39,
     "metadata": {},
     "output_type": "execute_result"
    }
   ],
   "source": [
    "X_train, Y_train= train['Tokens'].values, train['Polarity']\n",
    "X_test, Y_test= test['Tokens'], test['Polarity']\n",
    "X_t\n",
    "#for X in X_t:\n",
    " #   print (X)\n",
    "    #X_train=[dict(x,'True') for x in X]\n",
    "#X_train       "
   ]
  },
  {
   "cell_type": "code",
   "execution_count": 16,
   "metadata": {
    "collapsed": false
   },
   "outputs": [
    {
     "ename": "TypeError",
     "evalue": "'builtin_function_or_method' object is not iterable",
     "output_type": "error",
     "traceback": [
      "\u001b[0;31m---------------------------------------------------------------------------\u001b[0m",
      "\u001b[0;31mTypeError\u001b[0m                                 Traceback (most recent call last)",
      "\u001b[0;32m<ipython-input-16-f80a401a0f5b>\u001b[0m in \u001b[0;36m<module>\u001b[0;34m()\u001b[0m\n\u001b[1;32m      1\u001b[0m \u001b[0mtrain_data\u001b[0m\u001b[1;33m=\u001b[0m\u001b[1;33m[\u001b[0m\u001b[1;33m]\u001b[0m\u001b[1;33m\u001b[0m\u001b[0m\n\u001b[0;32m----> 2\u001b[0;31m \u001b[1;32mfor\u001b[0m \u001b[0mi\u001b[0m \u001b[1;32min\u001b[0m \u001b[0mX_train\u001b[0m\u001b[1;33m.\u001b[0m\u001b[0mindex\u001b[0m\u001b[1;33m:\u001b[0m\u001b[1;33m\u001b[0m\u001b[0m\n\u001b[0m\u001b[1;32m      3\u001b[0m     \u001b[0mtdata\u001b[0m\u001b[1;33m=\u001b[0m\u001b[1;33m(\u001b[0m\u001b[0mX_train\u001b[0m\u001b[1;33m[\u001b[0m\u001b[0mi\u001b[0m\u001b[1;33m]\u001b[0m\u001b[1;33m,\u001b[0m\u001b[0mY_train\u001b[0m\u001b[1;33m[\u001b[0m\u001b[0mi\u001b[0m\u001b[1;33m]\u001b[0m\u001b[1;33m)\u001b[0m\u001b[1;33m\u001b[0m\u001b[0m\n\u001b[1;32m      4\u001b[0m     \u001b[0mtrain_data\u001b[0m\u001b[1;33m.\u001b[0m\u001b[0mappend\u001b[0m\u001b[1;33m(\u001b[0m\u001b[0mtdata\u001b[0m\u001b[1;33m)\u001b[0m\u001b[1;33m\u001b[0m\u001b[0m\n\u001b[1;32m      5\u001b[0m \u001b[1;33m\u001b[0m\u001b[0m\n",
      "\u001b[0;31mTypeError\u001b[0m: 'builtin_function_or_method' object is not iterable"
     ]
    }
   ],
   "source": [
    "train_data=[]\n",
    "for i in X_train.index:\n",
    "    tdata=(X_train[i],Y_train[i]) \n",
    "    train_data.append(tdata)\n",
    "    \n",
    "\n",
    "#X_test, Y_test=test['POS_Tokens'],test['Polarity']\n",
    "train_data"
   ]
  },
  {
   "cell_type": "code",
   "execution_count": null,
   "metadata": {
    "collapsed": true
   },
   "outputs": [],
   "source": [
    "####TRAINING THE CLASSIFIER"
   ]
  },
  {
   "cell_type": "code",
   "execution_count": 10,
   "metadata": {
    "collapsed": true
   },
   "outputs": [],
   "source": [
    "from nltk.classify import NaiveBayesClassifier"
   ]
  },
  {
   "cell_type": "code",
   "execution_count": 11,
   "metadata": {
    "collapsed": false
   },
   "outputs": [
    {
     "ename": "AttributeError",
     "evalue": "'str' object has no attribute 'items'",
     "output_type": "error",
     "traceback": [
      "\u001b[0;31m---------------------------------------------------------------------------\u001b[0m",
      "\u001b[0;31mAttributeError\u001b[0m                            Traceback (most recent call last)",
      "\u001b[0;32m<ipython-input-11-34b7d481adee>\u001b[0m in \u001b[0;36m<module>\u001b[0;34m()\u001b[0m\n\u001b[0;32m----> 1\u001b[0;31m \u001b[0mclassifier\u001b[0m\u001b[1;33m=\u001b[0m\u001b[0mNaiveBayesClassifier\u001b[0m\u001b[1;33m.\u001b[0m\u001b[0mtrain\u001b[0m\u001b[1;33m(\u001b[0m\u001b[0mtrain_data\u001b[0m\u001b[1;33m)\u001b[0m\u001b[1;33m\u001b[0m\u001b[0m\n\u001b[0m",
      "\u001b[0;32mC:\\Users\\Ammick\\Anaconda3\\lib\\site-packages\\nltk\\classify\\naivebayes.py\u001b[0m in \u001b[0;36mtrain\u001b[0;34m(cls, labeled_featuresets, estimator)\u001b[0m\n\u001b[1;32m    194\u001b[0m         \u001b[1;32mfor\u001b[0m \u001b[0mfeatureset\u001b[0m\u001b[1;33m,\u001b[0m \u001b[0mlabel\u001b[0m \u001b[1;32min\u001b[0m \u001b[0mlabeled_featuresets\u001b[0m\u001b[1;33m:\u001b[0m\u001b[1;33m\u001b[0m\u001b[0m\n\u001b[1;32m    195\u001b[0m             \u001b[0mlabel_freqdist\u001b[0m\u001b[1;33m[\u001b[0m\u001b[0mlabel\u001b[0m\u001b[1;33m]\u001b[0m \u001b[1;33m+=\u001b[0m \u001b[1;36m1\u001b[0m\u001b[1;33m\u001b[0m\u001b[0m\n\u001b[0;32m--> 196\u001b[0;31m             \u001b[1;32mfor\u001b[0m \u001b[0mfname\u001b[0m\u001b[1;33m,\u001b[0m \u001b[0mfval\u001b[0m \u001b[1;32min\u001b[0m \u001b[0mfeatureset\u001b[0m\u001b[1;33m.\u001b[0m\u001b[0mitems\u001b[0m\u001b[1;33m(\u001b[0m\u001b[1;33m)\u001b[0m\u001b[1;33m:\u001b[0m\u001b[1;33m\u001b[0m\u001b[0m\n\u001b[0m\u001b[1;32m    197\u001b[0m                 \u001b[1;31m# Increment freq(fval|label, fname)\u001b[0m\u001b[1;33m\u001b[0m\u001b[1;33m\u001b[0m\u001b[0m\n\u001b[1;32m    198\u001b[0m                 \u001b[0mfeature_freqdist\u001b[0m\u001b[1;33m[\u001b[0m\u001b[0mlabel\u001b[0m\u001b[1;33m,\u001b[0m \u001b[0mfname\u001b[0m\u001b[1;33m]\u001b[0m\u001b[1;33m[\u001b[0m\u001b[0mfval\u001b[0m\u001b[1;33m]\u001b[0m \u001b[1;33m+=\u001b[0m \u001b[1;36m1\u001b[0m\u001b[1;33m\u001b[0m\u001b[0m\n",
      "\u001b[0;31mAttributeError\u001b[0m: 'str' object has no attribute 'items'"
     ]
    }
   ],
   "source": [
    "classifier=NaiveBayesClassifier.train(train_data)"
   ]
  }
 ],
 "metadata": {
  "anaconda-cloud": {},
  "kernelspec": {
   "display_name": "Python [default]",
   "language": "python",
   "name": "python3"
  },
  "language_info": {
   "codemirror_mode": {
    "name": "ipython",
    "version": 3
   },
   "file_extension": ".py",
   "mimetype": "text/x-python",
   "name": "python",
   "nbconvert_exporter": "python",
   "pygments_lexer": "ipython3",
   "version": "3.5.2"
  }
 },
 "nbformat": 4,
 "nbformat_minor": 1
}
